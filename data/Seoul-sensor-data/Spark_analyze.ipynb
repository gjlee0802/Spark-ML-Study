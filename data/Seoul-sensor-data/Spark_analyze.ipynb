{
 "cells": [
  {
   "cell_type": "markdown",
   "metadata": {},
   "source": [
    "# 서울시 공공데이터 가져오기"
   ]
  },
  {
   "cell_type": "code",
   "execution_count": 37,
   "metadata": {},
   "outputs": [],
   "source": [
    "from pyspark import SparkConf, SparkContext, SQLContext\n",
    "\n",
    "conf = SparkConf().setMaster(\"local[2]\") # run locally with 2 worker threads\n",
    "sc = SparkContext.getOrCreate(conf=conf)"
   ]
  },
  {
   "cell_type": "code",
   "execution_count": 78,
   "metadata": {},
   "outputs": [],
   "source": [
    "import pyspark.sql.types as typ\n",
    "\n",
    "labels = [\n",
    "    ('기관 명', typ.StringType()),\n",
    "    ('송신 서버 번호', typ.IntegerType()),\n",
    "    ('데이터 번호', typ.IntegerType()),\n",
    "    ('모델명', typ.StringType()),\n",
    "    ('시리얼', typ.StringType()),\n",
    "    ('구분', typ.IntegerType()),\n",
    "    ('초미세먼지(㎍/㎥)', typ.IntegerType()),\n",
    "    ('미세먼지(㎍/㎥)', typ.IntegerType()),\n",
    "    ('기온(℃)', typ.FloatType()),\n",
    "    ('상대습도( %)', typ.IntegerType()),\n",
    "    ('풍향(°)', typ.FloatType()),\n",
    "    ('풍속(m/s)', typ.FloatType()),\n",
    "    ('돌풍 풍향(°)', typ.FloatType()),\n",
    "    ('돌풍 풍속(m/s)', typ.FloatType()),\n",
    "    ('조도(lux)', typ.FloatType()),\n",
    "    ('자외선(UVI)', typ.FloatType()),\n",
    "    ('소음(dB)', typ.IntegerType()),\n",
    "    ('진동_x(g)', typ.FloatType()),\n",
    "    ('진동_y(g)', typ.FloatType()),\n",
    "    ('진동_z(g)', typ.FloatType()),\n",
    "    ('진동_x 최대(g)', typ.FloatType()),\n",
    "    ('진동_y 최대(g)', typ.FloatType()),\n",
    "    ('진동_z 최대(g)', typ.FloatType()),\n",
    "    ('흑구 운도(℃)', typ.FloatType()),\n",
    "    ('초미세먼지 보정(㎍/㎥)', typ.IntegerType()),\n",
    "    ('미세먼지 보정(㎍/㎥)', typ.IntegerType()),\n",
    "    ('전송시간', typ.StringType()),\n",
    "    ('등록일자', typ.StringType())\n",
    "]\n",
    "\n",
    "schema = typ.StructType([typ.StructField(e[0], e[1], False) for e in labels])"
   ]
  },
  {
   "cell_type": "code",
   "execution_count": 83,
   "metadata": {},
   "outputs": [],
   "source": [
    "# load rdd\n",
    "path =\"S-DoT_NATURE_2021.02.08-02.14.csv\"\n",
    "\n",
    "df = spark.read.option(\"header\",True).option(\"encoding\",'cp949').option('schema', schema).csv(path)"
   ]
  },
  {
   "cell_type": "code",
   "execution_count": 86,
   "metadata": {
    "scrolled": true
   },
   "outputs": [
    {
     "name": "stdout",
     "output_type": "stream",
     "text": [
      "+-------+--------------+-----------+-------+-----------+----+-----------------+---------------+-------+------------+-------+---------+------------+--------------+---------+-----------+--------+---------+---------+---------+--------------+--------------+--------------+------------+----------------------+--------------------+------------+-------------------+\n",
      "|기관 명|송신 서버 번호|데이터 번호| 모델명|     시리얼|구분|초미세먼지(㎍/㎥)|미세먼지(㎍/㎥)|기온(℃)|상대습도( %)|풍향(°)|풍속(m/s)|돌풍 풍향(°)|돌풍 풍속(m/s)|조도(lux)|자외선(UVI)|소음(dB)|진동_x(g)|진동_y(g)|진동_z(g)|진동_x 최대(g)|진동_y 최대(g)|진동_z 최대(g)|흑구 운도(℃)|초미세먼지 보정(㎍/㎥)|미세먼지 보정(㎍/㎥)|    전송시간|           등록일자|\n",
      "+-------+--------------+-----------+-------+-----------+----+-----------------+---------------+-------+------------+-------+---------+------------+--------------+---------+-----------+--------+---------+---------+---------+--------------+--------------+--------------+------------+----------------------+--------------------+------------+-------------------+\n",
      "| 서울시|            48|          1|SDOT001|OC3CL200010|   1|               21|             30|   -0.9|          45|   null|     null|        null|          null|     null|        0.0|      49|     null|     null|     null|          null|          null|          null|        -4.1|                    21|                  30|202102072300|2021-02-08 00:07:01|\n",
      "| 서울시|            48|          1|SDOT001|OC3CL200011|   1|               22|             33|   21.6|          88|   null|     null|        null|          null|     null|        0.0|      50|     null|     null|     null|          null|          null|          null|        15.2|                    22|                  33|202102072300|2021-02-08 00:07:01|\n",
      "| 서울시|            48|          1|SDOT001|OC3CL200008|   1|                9|             13|   15.3|          19|   null|     null|        null|          null|        0|        0.0|      52|     1.03|     0.09|     0.18|          1.08|          0.15|          0.31|        null|                     9|                  13|202102072300|2021-02-08 00:07:01|\n",
      "| 서울시|            48|          1|SDOT001|OC3CL200014|   1|               22|             32|   -1.4|          45|   null|     null|        null|          null|     null|        0.0|      53|     null|     null|     null|          null|          null|          null|        -4.4|                    22|                  32|202102072300|2021-02-08 00:07:01|\n",
      "| 서울시|            48|          1|SDOT001|OC3CL200015|   1|               28|             42|   -1.7|          45|   null|     null|        null|          null|     null|        0.0|      55|     null|     null|     null|          null|          null|          null|        -4.7|                    28|                  42|202102072300|2021-02-08 00:07:01|\n",
      "| 서울시|            48|          1|SDOT001|OC3CL200012|   1|               23|             34|   -1.0|          44|   null|     null|        null|          null|     null|        0.0|      56|     null|     null|     null|          null|          null|          null|        -4.3|                    23|                  34|202102072300|2021-02-08 00:07:01|\n",
      "| 서울시|            48|          1|SDOT001|OC3CL200013|   1|               21|             31|   -2.6|          49|   null|     null|        null|          null|     null|        0.0|      48|     null|     null|     null|          null|          null|          null|        -5.0|                    21|                  31|202102072300|2021-02-08 00:07:01|\n",
      "| 서울시|            48|          1|SDOT001|OC3CL200016|   1|               24|             35|   -0.9|          45|   null|     null|        null|          null|     null|        0.0|      37|     null|     null|     null|          null|          null|          null|        -4.1|                    24|                  35|202102072300|2021-02-08 00:07:01|\n",
      "| 서울시|            48|          1|SDOT001|OC3CL200019|   1|               27|             40|   -2.5|          48|   null|     null|        null|          null|     null|        0.0|      58|     null|     null|     null|          null|          null|          null|        -5.1|                    27|                  40|202102072300|2021-02-08 00:07:01|\n",
      "| 서울시|            48|          1|SDOT001|OC3CL200017|   1|               17|             26|   -1.6|          47|   null|     null|        null|          null|     null|        0.0|      61|     null|     null|     null|          null|          null|          null|        -4.6|                    17|                  26|202102072300|2021-02-08 00:07:01|\n",
      "| 서울시|            48|          1|SDOT001|OC3CL200020|   1|               18|             27|   -1.5|          44|   null|     null|        null|          null|     null|       null|      65|     null|     null|     null|          null|          null|          null|        null|                    18|                  27|202102072300|2021-02-08 00:07:01|\n",
      "| 서울시|            48|          1|SDOT001|OC3CL200018|   1|               25|             37|   -1.1|          45|   null|     null|        null|          null|     null|        0.0|      51|     null|     null|     null|          null|          null|          null|        -4.2|                    25|                  37|202102072300|2021-02-08 00:07:01|\n",
      "| 서울시|            48|          1|SDOT001|OC3CL200025|   1|               31|             45|   -2.4|          50|   null|     null|        null|          null|     null|       null|      62|     null|     null|     null|          null|          null|          null|        null|                    31|                  45|202102072300|2021-02-08 00:07:01|\n",
      "| 서울시|            48|          1|SDOT001|OC3CL200024|   1|               24|             35|   null|        null|   null|     null|        null|          null|     null|       null|      58|     null|     null|     null|          null|          null|          null|        null|                    24|                  35|202102072300|2021-02-08 00:07:01|\n",
      "| 서울시|            48|          1|SDOT001|OC3CL200021|   1|               29|             43|   -2.0|          46|   null|     null|        null|          null|     null|       null|      62|     null|     null|     null|          null|          null|          null|        null|                    29|                  43|202102072300|2021-02-08 00:07:01|\n",
      "| 서울시|            48|          1|SDOT001|OC3CL200026|   1|               29|             42|   -2.5|          49|   null|     null|        null|          null|     null|       null|      59|     null|     null|     null|          null|          null|          null|        null|                    29|                  42|202102072300|2021-02-08 00:07:01|\n",
      "| 서울시|            48|          1|SDOT001|OC3CL200027|   1|               22|             32|   -2.0|          47|   null|     null|        null|          null|     null|       null|      45|     null|     null|     null|          null|          null|          null|        null|                    22|                  32|202102072300|2021-02-08 00:07:01|\n",
      "| 서울시|            48|          1|SDOT001|OC3CL200022|   1|               18|             27|   -2.1|          45|   null|     null|        null|          null|     null|       null|      64|     null|     null|     null|          null|          null|          null|        null|                    18|                  27|202102072300|2021-02-08 00:07:01|\n",
      "| 서울시|            48|          1|SDOT001|OC3CL200028|   1|               20|             30|   -1.3|          44|   null|     null|        null|          null|     null|       null|      53|     null|     null|     null|          null|          null|          null|        null|                    20|                  30|202102072300|2021-02-08 00:07:01|\n",
      "| 서울시|            48|          1|SDOT001|OC3CL200023|   1|               25|             37|   -1.2|          44|   null|     null|        null|          null|     null|       null|      60|     null|     null|     null|          null|          null|          null|        null|                    25|                  37|202102072300|2021-02-08 00:07:01|\n",
      "+-------+--------------+-----------+-------+-----------+----+-----------------+---------------+-------+------------+-------+---------+------------+--------------+---------+-----------+--------+---------+---------+---------+--------------+--------------+--------------+------------+----------------------+--------------------+------------+-------------------+\n",
      "only showing top 20 rows\n",
      "\n"
     ]
    }
   ],
   "source": [
    "df.show()"
   ]
  },
  {
   "cell_type": "code",
   "execution_count": 97,
   "metadata": {},
   "outputs": [
    {
     "name": "stdout",
     "output_type": "stream",
     "text": [
      "root\n",
      " |-- 기관 명: string (nullable = true)\n",
      " |-- 송신 서버 번호: string (nullable = true)\n",
      " |-- 데이터 번호: string (nullable = true)\n",
      " |-- 모델명: string (nullable = true)\n",
      " |-- 시리얼: string (nullable = true)\n",
      " |-- 구분: string (nullable = true)\n",
      " |-- 초미세먼지(㎍/㎥): string (nullable = true)\n",
      " |-- 미세먼지(㎍/㎥): string (nullable = true)\n",
      " |-- 기온(℃): string (nullable = true)\n",
      " |-- 상대습도( %): string (nullable = true)\n",
      " |-- 풍향(°): string (nullable = true)\n",
      " |-- 풍속(m/s): string (nullable = true)\n",
      " |-- 돌풍 풍향(°): string (nullable = true)\n",
      " |-- 돌풍 풍속(m/s): string (nullable = true)\n",
      " |-- 조도(lux): string (nullable = true)\n",
      " |-- 자외선(UVI): string (nullable = true)\n",
      " |-- 소음(dB): string (nullable = true)\n",
      " |-- 진동_x(g): string (nullable = true)\n",
      " |-- 진동_y(g): string (nullable = true)\n",
      " |-- 진동_z(g): string (nullable = true)\n",
      " |-- 진동_x 최대(g): string (nullable = true)\n",
      " |-- 진동_y 최대(g): string (nullable = true)\n",
      " |-- 진동_z 최대(g): string (nullable = true)\n",
      " |-- 흑구 운도(℃): string (nullable = true)\n",
      " |-- 초미세먼지 보정(㎍/㎥): string (nullable = true)\n",
      " |-- 미세먼지 보정(㎍/㎥): string (nullable = true)\n",
      " |-- 전송시간: string (nullable = true)\n",
      " |-- 등록일자: string (nullable = true)\n",
      "\n"
     ]
    }
   ],
   "source": [
    "df.printSchema()"
   ]
  },
  {
   "cell_type": "code",
   "execution_count": 96,
   "metadata": {
    "scrolled": true
   },
   "outputs": [
    {
     "name": "stdout",
     "output_type": "stream",
     "text": [
      "+-------+--------------+-----------+-------+-----------+----+-----------------+---------------+-------+------------+-------+---------+------------+--------------+---------+-----------+--------+---------+---------+---------+--------------+--------------+--------------+------------+----------------------+--------------------+------------+-------------------+\n",
      "|기관 명|송신 서버 번호|데이터 번호| 모델명|     시리얼|구분|초미세먼지(㎍/㎥)|미세먼지(㎍/㎥)|기온(℃)|상대습도( %)|풍향(°)|풍속(m/s)|돌풍 풍향(°)|돌풍 풍속(m/s)|조도(lux)|자외선(UVI)|소음(dB)|진동_x(g)|진동_y(g)|진동_z(g)|진동_x 최대(g)|진동_y 최대(g)|진동_z 최대(g)|흑구 운도(℃)|초미세먼지 보정(㎍/㎥)|미세먼지 보정(㎍/㎥)|    전송시간|           등록일자|\n",
      "+-------+--------------+-----------+-------+-----------+----+-----------------+---------------+-------+------------+-------+---------+------------+--------------+---------+-----------+--------+---------+---------+---------+--------------+--------------+--------------+------------+----------------------+--------------------+------------+-------------------+\n",
      "| 서울시|            48|          1|SDOT001|OC3CL200010|   1|               21|             30|   -0.9|          45|   null|     null|        null|          null|     null|        0.0|      49|     null|     null|     null|          null|          null|          null|        -4.1|                    21|                  30|202102072300|2021-02-08 00:07:01|\n",
      "| 서울시|            48|          1|SDOT001|OC3CL200010|   1|               19|             28|   -1.2|          46|   null|     null|        null|          null|     null|        0.0|      49|     null|     null|     null|          null|          null|          null|        -4.3|                    19|                  28|202102080000|2021-02-08 01:07:00|\n",
      "| 서울시|            48|          1|SDOT001|OC3CL200010|   1|               17|             26|   -0.9|          44|   null|     null|        null|          null|     null|        0.0|      49|     null|     null|     null|          null|          null|          null|        -4.3|                    17|                  26|202102080100|2021-02-08 02:07:00|\n",
      "| 서울시|            48|          1|SDOT001|OC3CL200010|   1|               16|             23|   -1.4|          45|   null|     null|        null|          null|     null|        0.0|      49|     null|     null|     null|          null|          null|          null|        -4.6|                    16|                  23|202102080200|2021-02-08 03:07:01|\n",
      "| 서울시|            48|          1|SDOT001|OC3CL200010|   1|               15|             22|   -3.5|          54|   null|     null|        null|          null|     null|        0.0|      49|     null|     null|     null|          null|          null|          null|        -5.5|                    15|                  22|202102080300|2021-02-08 04:07:01|\n",
      "| 서울시|            48|          1|SDOT001|OC3CL200010|   1|               14|             20|   -3.5|          52|   null|     null|        null|          null|     null|        0.0|      49|     null|     null|     null|          null|          null|          null|        -5.5|                    14|                  20|202102080400|2021-02-08 05:07:00|\n",
      "| 서울시|            48|          1|SDOT001|OC3CL200010|   1|               11|             17|   -3.0|          45|   null|     null|        null|          null|     null|        0.0|      49|     null|     null|     null|          null|          null|          null|        -5.7|                    11|                  17|202102080500|2021-02-08 06:07:00|\n",
      "| 서울시|            48|          1|SDOT001|OC3CL200010|   1|               10|             16|   -3.1|          44|   null|     null|        null|          null|     null|        0.0|      50|     null|     null|     null|          null|          null|          null|        -6.0|                    10|                  16|202102080600|2021-02-08 07:07:00|\n",
      "| 서울시|            48|          1|SDOT001|OC3CL200010|   1|                9|             14|   -3.4|          40|   null|     null|        null|          null|     null|        0.0|      51|     null|     null|     null|          null|          null|          null|        -6.4|                     9|                  14|202102080700|2021-02-08 08:07:01|\n",
      "| 서울시|            48|          1|SDOT001|OC3CL200010|   1|                9|             14|   -2.0|          35|   null|     null|        null|          null|     null|        0.0|      52|     null|     null|     null|          null|          null|          null|        -5.2|                     9|                  14|202102080800|2021-02-08 09:07:01|\n",
      "| 서울시|            48|          1|SDOT001|OC3CL200010|   1|                9|             14|    1.9|          27|   null|     null|        null|          null|     null|        0.0|      52|     null|     null|     null|          null|          null|          null|        -2.3|                     9|                  14|202102080900|2021-02-08 10:07:00|\n",
      "| 서울시|            48|          1|SDOT001|OC3CL200010|   1|                8|             13|    0.2|          28|   null|     null|        null|          null|     null|        0.0|      53|     null|     null|     null|          null|          null|          null|        -4.4|                     8|                  13|202102081000|2021-02-08 11:07:00|\n",
      "| 서울시|            48|          1|SDOT001|OC3CL200010|   1|                7|             10|    0.3|          26|   null|     null|        null|          null|     null|        0.0|      52|     null|     null|     null|          null|          null|          null|        -4.4|                     7|                  10|202102081100|2021-02-08 12:07:00|\n",
      "| 서울시|            48|          1|SDOT001|OC3CL200010|   1|                4|              7|    1.2|          26|   null|     null|        null|          null|     null|        0.0|      53|     null|     null|     null|          null|          null|          null|        -3.2|                     4|                   7|202102081300|2021-02-08 14:07:00|\n",
      "| 서울시|            48|          1|SDOT001|OC3CL200010|   1|                4|              7|    1.5|          26|   null|     null|        null|          null|     null|        0.0|      52|     null|     null|     null|          null|          null|          null|        -2.8|                     4|                   7|202102081400|2021-02-08 15:07:00|\n",
      "| 서울시|            48|          1|SDOT001|OC3CL200010|   1|                3|              6|    1.1|          26|   null|     null|        null|          null|     null|        0.0|      52|     null|     null|     null|          null|          null|          null|        -3.3|                     3|                   6|202102081500|2021-02-08 16:07:00|\n",
      "| 서울시|            48|          1|SDOT001|OC3CL200010|   1|                3|              6|    1.3|          26|   null|     null|        null|          null|     null|        0.0|      51|     null|     null|     null|          null|          null|          null|        -3.1|                     3|                   6|202102081600|2021-02-08 17:07:00|\n",
      "| 서울시|            48|          1|SDOT001|OC3CL200010|   1|                2|              5|    0.7|          27|   null|     null|        null|          null|     null|        0.0|      52|     null|     null|     null|          null|          null|          null|        -3.8|                     2|                   5|202102081700|2021-02-08 18:07:01|\n",
      "| 서울시|            48|          1|SDOT001|OC3CL200010|   1|                2|              4|   -0.1|          28|   null|     null|        null|          null|     null|        0.0|      50|     null|     null|     null|          null|          null|          null|        -5.1|                     2|                   4|202102081800|2021-02-08 19:07:01|\n",
      "| 서울시|            48|          1|SDOT001|OC3CL200010|   1|                3|              5|   -0.5|          30|   null|     null|        null|          null|     null|        0.0|      50|     null|     null|     null|          null|          null|          null|        -5.2|                     3|                   5|202102081900|2021-02-08 20:07:00|\n",
      "+-------+--------------+-----------+-------+-----------+----+-----------------+---------------+-------+------------+-------+---------+------------+--------------+---------+-----------+--------+---------+---------+---------+--------------+--------------+--------------+------------+----------------------+--------------------+------------+-------------------+\n",
      "only showing top 20 rows\n",
      "\n"
     ]
    }
   ],
   "source": [
    "target_node = df.filter(df.시리얼.contains('OC3CL200010'))\n",
    "target_node.show()"
   ]
  },
  {
   "cell_type": "markdown",
   "metadata": {},
   "source": [
    "# 상관 계수 확인하기"
   ]
  },
  {
   "cell_type": "code",
   "execution_count": 99,
   "metadata": {},
   "outputs": [],
   "source": [
    "import  pyspark.mllib.stat as st\n",
    "import numpy as np\n",
    "\n",
    "numeric_cols = ['초미세먼지(㎍/㎥)', '미세먼지(㎍/㎥)', '기온(℃)', '상대습도( %)']\n",
    "\n",
    "numeric_rdd = target_node.select(numeric_cols).rdd.map(lambda row: [e for e in row])"
   ]
  },
  {
   "cell_type": "code",
   "execution_count": 103,
   "metadata": {},
   "outputs": [
    {
     "name": "stdout",
     "output_type": "stream",
     "text": [
      "초미세먼지(㎍/㎥): \t33.73 \t 22.80\n",
      "미세먼지(㎍/㎥): \t49.68 \t 33.11\n",
      "기온(℃): \t3.27 \t 5.16\n",
      "상대습도( %): \t54.22 \t 17.32\n"
     ]
    }
   ],
   "source": [
    "mllib_stats = st.Statistics.colStats(numeric_rdd)\n",
    "\n",
    "for col, m, v in zip(numeric_cols, millib_stats.mean(), mllib_stats.variance()):\n",
    "    print('{0}: \\t{1:.2f} \\t {2:.2f}'.format(col, m, np.sqrt(v)))"
   ]
  },
  {
   "cell_type": "code",
   "execution_count": 104,
   "metadata": {
    "scrolled": true
   },
   "outputs": [
    {
     "name": "stdout",
     "output_type": "stream",
     "text": [
      "초미세먼지(㎍/㎥)-to-미세먼지(㎍/㎥): 1.00\n",
      "초미세먼지(㎍/㎥)-to-기온(℃): 0.67\n",
      "미세먼지(㎍/㎥)-to-초미세먼지(㎍/㎥): 1.00\n",
      "미세먼지(㎍/㎥)-to-기온(℃): 0.68\n",
      "기온(℃)-to-초미세먼지(㎍/㎥): 0.67\n",
      "기온(℃)-to-미세먼지(㎍/㎥): 0.68\n"
     ]
    }
   ],
   "source": [
    "corrs = st.Statistics.corr(numeric_rdd)\n",
    "\n",
    "for i, el in enumerate(corrs > 0.5):\n",
    "    correlated = [\n",
    "        (numeric_cols[j], corrs[i][j])\n",
    "        for j, e in enumerate(el)\n",
    "        if e == 1.0 and j != i]\n",
    "    if len(correlated) > 0:\n",
    "        for e in correlated:\n",
    "            print('{0}-to-{1}: {2:.2f}'.format(numeric_cols[i], e[0], e[1]))"
   ]
  },
  {
   "cell_type": "code",
   "execution_count": null,
   "metadata": {},
   "outputs": [],
   "source": []
  }
 ],
 "metadata": {
  "kernelspec": {
   "display_name": "Python 3",
   "language": "python",
   "name": "python3"
  },
  "language_info": {
   "codemirror_mode": {
    "name": "ipython",
    "version": 3
   },
   "file_extension": ".py",
   "mimetype": "text/x-python",
   "name": "python",
   "nbconvert_exporter": "python",
   "pygments_lexer": "ipython3",
   "version": "3.7.5"
  }
 },
 "nbformat": 4,
 "nbformat_minor": 4
}
